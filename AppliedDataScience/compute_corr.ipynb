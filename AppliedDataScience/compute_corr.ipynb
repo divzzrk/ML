{
 "cells": [
  {
   "cell_type": "code",
   "execution_count": 2,
   "metadata": {},
   "outputs": [],
   "source": [
    "import pandas as pd"
   ]
  },
  {
   "cell_type": "code",
   "execution_count": 3,
   "metadata": {},
   "outputs": [],
   "source": [
    "height_weight_df = pd.read_csv(\"Datasets/height-weight.csv\")"
   ]
  },
  {
   "cell_type": "code",
   "execution_count": 5,
   "metadata": {},
   "outputs": [
    {
     "data": {
      "text/html": [
       "<div>\n",
       "<style scoped>\n",
       "    .dataframe tbody tr th:only-of-type {\n",
       "        vertical-align: middle;\n",
       "    }\n",
       "\n",
       "    .dataframe tbody tr th {\n",
       "        vertical-align: top;\n",
       "    }\n",
       "\n",
       "    .dataframe thead th {\n",
       "        text-align: right;\n",
       "    }\n",
       "</style>\n",
       "<table border=\"1\" class=\"dataframe\">\n",
       "  <thead>\n",
       "    <tr style=\"text-align: right;\">\n",
       "      <th></th>\n",
       "      <th>Index</th>\n",
       "      <th>Height(Inches)</th>\n",
       "      <th>Weight(Pounds)</th>\n",
       "    </tr>\n",
       "  </thead>\n",
       "  <tbody>\n",
       "    <tr>\n",
       "      <th>Index</th>\n",
       "      <td>1.000000</td>\n",
       "      <td>0.009626</td>\n",
       "      <td>-0.007257</td>\n",
       "    </tr>\n",
       "    <tr>\n",
       "      <th>Height(Inches)</th>\n",
       "      <td>0.009626</td>\n",
       "      <td>1.000000</td>\n",
       "      <td>0.502859</td>\n",
       "    </tr>\n",
       "    <tr>\n",
       "      <th>Weight(Pounds)</th>\n",
       "      <td>-0.007257</td>\n",
       "      <td>0.502859</td>\n",
       "      <td>1.000000</td>\n",
       "    </tr>\n",
       "  </tbody>\n",
       "</table>\n",
       "</div>"
      ],
      "text/plain": [
       "                   Index  Height(Inches)  Weight(Pounds)\n",
       "Index           1.000000        0.009626       -0.007257\n",
       "Height(Inches)  0.009626        1.000000        0.502859\n",
       "Weight(Pounds) -0.007257        0.502859        1.000000"
      ]
     },
     "execution_count": 5,
     "metadata": {},
     "output_type": "execute_result"
    }
   ],
   "source": [
    "height_weight_df.corr()"
   ]
  },
  {
   "cell_type": "code",
   "execution_count": 6,
   "metadata": {},
   "outputs": [
    {
     "data": {
      "text/plain": [
       "np.float64(0.5028585206028433)"
      ]
     },
     "execution_count": 6,
     "metadata": {},
     "output_type": "execute_result"
    }
   ],
   "source": [
    "height_weight_df['Height(Inches)'].corr(height_weight_df['Weight(Pounds)'])"
   ]
  },
  {
   "cell_type": "markdown",
   "metadata": {},
   "source": [
    "## Correlation Notes\n",
    "\n",
    "It tells how two variables are related\n",
    "Values exist between 1 and -1\n",
    "\n",
    "1 -> positive correlation\n",
    "-1 -> negative correlation\n",
    "0 -> no correlation\n",
    "\n",
    "so here we can see its 0.5 this indicates somewhat a positive correlation\n"
   ]
  }
 ],
 "metadata": {
  "kernelspec": {
   "display_name": "Python 3",
   "language": "python",
   "name": "python3"
  },
  "language_info": {
   "codemirror_mode": {
    "name": "ipython",
    "version": 3
   },
   "file_extension": ".py",
   "mimetype": "text/x-python",
   "name": "python",
   "nbconvert_exporter": "python",
   "pygments_lexer": "ipython3",
   "version": "3.12.3"
  }
 },
 "nbformat": 4,
 "nbformat_minor": 2
}
