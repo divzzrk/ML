{
 "cells": [
  {
   "cell_type": "markdown",
   "metadata": {},
   "source": [
    "1. Population\n",
    "2. Sample\n",
    "\n",
    "## Hypothesis testing\n",
    "- statistical method to take a decision on the population based on the sample collected\n",
    "- we cannot do every analysis on the population\n",
    "- avg income of a person living in a city\n",
    "    - we cannot go to every person and take incomes\n",
    "    - lets take samples from each income group\n",
    "        - low income\n",
    "        - medium\n",
    "        - high income\n",
    "- whatever u assume - null hypothesisc(H0)\n",
    "- whatever contradicts - alternate hypothesis (H1)\n",
    "\n",
    "- p value - probability that h0 being true\n",
    "- alpha value \n",
    "    - significance leve\n",
    "    - threshold to reject null hypothesis\n",
    "    - probability that H0 is false\n",
    "    - generally 0.05\n",
    "    - 5% chance to random factors\n",
    "\n",
    "- conclusion\n",
    "- if p - value is less than alpha:\n",
    "    - reject null hypothesis\n",
    "    - alt hypothesis is true\n",
    "    - not sufficient evidence in data to say null hypothesis is true\n",
    "- else\n",
    "    - fail to reject null hypothesis\n",
    "\n",
    "\n",
    "- Example\n",
    "- product A: pfizer\n",
    "- product B - astrazenca\n",
    "\n",
    "- h0: there is no difference between product a and b\n",
    "- h1: there is a difference between product a and b\n",
    "\n",
    "- we will take samples 10 in each case if it will cure covid or not\n",
    "\n",
    "- product A\n",
    "- product B\n",
    "\n",
    "- statistical tests\n",
    "    - t-test\n",
    "    - f-test\n",
    "    - anova\n",
    "\n"
   ]
  },
  {
   "cell_type": "markdown",
   "metadata": {},
   "source": [
    "# Question\n",
    "- compare a mean of sample to the population\n",
    "- average salary of the persons working in a company = 50000\n",
    "- sample = 10\n",
    "- average salary for the sample = 52000\n",
    "\n",
    "- h0: average sample of employee is 50000\n",
    "- h1: average salary is not 50000\n",
    "\n",
    "- statistical test\n",
    "    - t-test\n",
    "    - when one sample from a population we use 1 sample t test\n",
    "    - if two diff samples with 2 scenarios 2 sample t test"
   ]
  },
  {
   "cell_type": "code",
   "execution_count": 1,
   "metadata": {},
   "outputs": [],
   "source": [
    "import numpy as np\n",
    "from scipy.stats import ttest_1samp"
   ]
  },
  {
   "cell_type": "code",
   "execution_count": 4,
   "metadata": {},
   "outputs": [
    {
     "data": {
      "text/plain": [
       "TtestResult(statistic=np.float64(0.9135161792978956), pvalue=np.float64(0.3847901317073621), df=np.int64(9))"
      ]
     },
     "execution_count": 4,
     "metadata": {},
     "output_type": "execute_result"
    }
   ],
   "source": [
    "sample = [52000,51000,49500,53000,48000,50000,50500,51500,49800,49000]\n",
    "ttest_1samp(sample, 50000)"
   ]
  },
  {
   "cell_type": "markdown",
   "metadata": {},
   "source": [
    "- h0: the avg salary of person in company is 50000 (wats general)\n",
    "- h1: the avg salary of person in company is not 50000 (wat we try to claim put as alterate, as it has less degrees of freeedom, acceptance of alt. will b less)"
   ]
  },
  {
   "cell_type": "markdown",
   "metadata": {},
   "source": [
    "- is there a perfomamce diff im class A and B\n",
    "\n",
    "- class_a = [85,90,88,75,95]\n",
    "- class_b = [80,70,78,85,82\n",
    "\n",
    "- h0: performance is same between a and b\n",
    "- h1: not same\n",
    "\n",
    "- example of 2 sample t-test"
   ]
  },
  {
   "cell_type": "code",
   "execution_count": 8,
   "metadata": {},
   "outputs": [
    {
     "data": {
      "text/plain": [
       "TtestResult(statistic=np.float64(1.818827335164935), pvalue=np.float64(0.10644300564634536), df=np.float64(8.0))"
      ]
     },
     "execution_count": 8,
     "metadata": {},
     "output_type": "execute_result"
    }
   ],
   "source": [
    "from scipy.stats import ttest_ind\n",
    "class_a = [85,90,88,75,95]\n",
    "class_b = [80,70,78,85,82]\n",
    "\n",
    "ttest_ind(class_a, class_b)"
   ]
  },
  {
   "cell_type": "markdown",
   "metadata": {},
   "source": [
    "- here p value is 0.1\n",
    "- there is a performance diff\n",
    "- p value > alpha 0.05\n",
    "- no sufficient evidence to say both are completely diff\n",
    "- so lets follow null hypothesis"
   ]
  }
 ],
 "metadata": {
  "kernelspec": {
   "display_name": "Python 3",
   "language": "python",
   "name": "python3"
  },
  "language_info": {
   "codemirror_mode": {
    "name": "ipython",
    "version": 3
   },
   "file_extension": ".py",
   "mimetype": "text/x-python",
   "name": "python",
   "nbconvert_exporter": "python",
   "pygments_lexer": "ipython3",
   "version": "3.12.3"
  }
 },
 "nbformat": 4,
 "nbformat_minor": 2
}
