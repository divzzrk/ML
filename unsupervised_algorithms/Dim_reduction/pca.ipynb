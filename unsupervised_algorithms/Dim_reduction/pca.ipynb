{
 "cells": [
  {
   "cell_type": "markdown",
   "metadata": {},
   "source": [
    "## Princpal Component Analysis"
   ]
  },
  {
   "cell_type": "code",
   "execution_count": null,
   "metadata": {},
   "outputs": [],
   "source": [
    "from sklearn.decomposition import PCA\n",
    "from sklearn.datasets import make_friedman1\n",
    "x, y = make_friedman1()"
   ]
  },
  {
   "cell_type": "code",
   "execution_count": 16,
   "metadata": {},
   "outputs": [
    {
     "name": "stdout",
     "output_type": "stream",
     "text": [
      "shape : (100, 10)\n",
      "pca shape:  (4, 10)\n",
      "transformed shape:  (100, 4)\n",
      "Principal components:  [[-0.43  -0.399 -0.022  0.29   0.546 -0.172 -0.318 -0.091  0.074 -0.358]\n",
      " [-0.122  0.403  0.461  0.272 -0.038  0.413 -0.45  -0.333 -0.213  0.076]\n",
      " [-0.325  0.1    0.663 -0.096 -0.288 -0.419  0.151  0.148  0.31  -0.188]\n",
      " [-0.197  0.487 -0.398  0.491 -0.146 -0.042 -0.121  0.465  0.26  -0.043]]\n",
      "component wise ratio:  [0.151 0.147 0.121 0.113]\n"
     ]
    }
   ],
   "source": [
    "pca = PCA(n_components=4)\n",
    "pca.fit(x)\n",
    "x_transformed = pca.transform(x)\n",
    "print(\"shape :\", x.shape)\n",
    "print(\"pca shape: \", pca.components_.shape)\n",
    "print(\"transformed shape: \", x_transformed.shape)\n",
    "print(\"Principal components: \", pca.components_.round(3))\n",
    "print(\"component wise ratio: \", pca.explained_variance_ratio_.round(3))"
   ]
  },
  {
   "cell_type": "markdown",
   "metadata": {},
   "source": [
    "## Chart for depicting components"
   ]
  },
  {
   "cell_type": "code",
   "execution_count": 17,
   "metadata": {},
   "outputs": [
    {
     "data": {
      "text/plain": [
       "<matplotlib.colorbar.Colorbar at 0x14be96690>"
      ]
     },
     "execution_count": 17,
     "metadata": {},
     "output_type": "execute_result"
    },
    {
     "data": {
      "image/png": "[encoded data removed]",
      "text/plain": [
       "<Figure size 1200x480 with 2 Axes>"
      ]
     },
     "metadata": {},
     "output_type": "display_data"
    }
   ],
   "source": [
    "import matplotlib.pyplot as plt\n",
    "plt.matshow(pca.components_)\n",
    "plt.colorbar()"
   ]
  }
 ],
 "metadata": {
  "kernelspec": {
   "display_name": "Python 3",
   "language": "python",
   "name": "python3"
  },
  "language_info": {
   "codemirror_mode": {
    "name": "ipython",
    "version": 3
   },
   "file_extension": ".py",
   "mimetype": "text/x-python",
   "name": "python",
   "nbconvert_exporter": "python",
   "pygments_lexer": "ipython3",
   "version": "3.12.3"
  }
 },
 "nbformat": 4,
 "nbformat_minor": 2
}
