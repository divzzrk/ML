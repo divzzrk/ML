{
 "cells": [
  {
   "cell_type": "markdown",
   "metadata": {},
   "source": [
    "## Identifying the sampling adequacy\n",
    "### To perform factor analysis we need to measure the factorability or the sampling adequacy\n",
    "\n",
    "#### Bartlett test: value < 0.5 is significant\n",
    "#### KMO test: value > 0.5 is significant\n"
   ]
  },
  {
   "cell_type": "code",
   "execution_count": 18,
   "metadata": {},
   "outputs": [
    {
     "name": "stdout",
     "output_type": "stream",
     "text": [
      "\n",
      "\u001b[1m[\u001b[0m\u001b[34;49mnotice\u001b[0m\u001b[1;39;49m]\u001b[0m\u001b[39;49m A new release of pip is available: \u001b[0m\u001b[31;49m24.0\u001b[0m\u001b[39;49m -> \u001b[0m\u001b[32;49m24.2\u001b[0m\n",
      "\u001b[1m[\u001b[0m\u001b[34;49mnotice\u001b[0m\u001b[1;39;49m]\u001b[0m\u001b[39;49m To update, run: \u001b[0m\u001b[32;49mpip3 install --upgrade pip\u001b[0m\n"
     ]
    }
   ],
   "source": [
    "!pip3.12 install scikit-learn matplotlib --quiet\n",
    "!pip3.12 install factor_analyzer --quiet"
   ]
  },
  {
   "cell_type": "markdown",
   "metadata": {},
   "source": [
    "### Load the dataset"
   ]
  },
  {
   "cell_type": "code",
   "execution_count": 3,
   "metadata": {},
   "outputs": [
    {
     "name": "stdout",
     "output_type": "stream",
     "text": [
      ".. _diabetes_dataset:\n",
      "\n",
      "Diabetes dataset\n",
      "----------------\n",
      "\n",
      "Ten baseline variables, age, sex, body mass index, average blood\n",
      "pressure, and six blood serum measurements were obtained for each of n =\n",
      "442 diabetes patients, as well as the response of interest, a\n",
      "quantitative measure of disease progression one year after baseline.\n",
      "\n",
      "**Data Set Characteristics:**\n",
      "\n",
      ":Number of Instances: 442\n",
      "\n",
      ":Number of Attributes: First 10 columns are numeric predictive values\n",
      "\n",
      ":Target: Column 11 is a quantitative measure of disease progression one year after baseline\n",
      "\n",
      ":Attribute Information:\n",
      "    - age     age in years\n",
      "    - sex\n",
      "    - bmi     body mass index\n",
      "    - bp      average blood pressure\n",
      "    - s1      tc, total serum cholesterol\n",
      "    - s2      ldl, low-density lipoproteins\n",
      "    - s3      hdl, high-density lipoproteins\n",
      "    - s4      tch, total cholesterol / HDL\n",
      "    - s5      ltg, possibly log of serum triglycerides level\n",
      "    - s6      glu, blood sugar level\n",
      "\n",
      "Note: Each of these 10 feature variables have been mean centered and scaled by the standard deviation times the square root of `n_samples` (i.e. the sum of squares of each column totals 1).\n",
      "\n",
      "Source URL:\n",
      "https://www4.stat.ncsu.edu/~boos/var.select/diabetes.html\n",
      "\n",
      "For more information see:\n",
      "Bradley Efron, Trevor Hastie, Iain Johnstone and Robert Tibshirani (2004) \"Least Angle Regression,\" Annals of Statistics (with discussion), 407-499.\n",
      "(https://web.stanford.edu/~hastie/Papers/LARS/LeastAngle_2002.pdf)\n",
      "\n"
     ]
    }
   ],
   "source": [
    "from sklearn.datasets import load_diabetes\n",
    "diabetes = load_diabetes()\n",
    "x = diabetes.data\n",
    "y = diabetes.target\n",
    "print(diabetes.DESCR)"
   ]
  },
  {
   "cell_type": "markdown",
   "metadata": {},
   "source": [
    "## Bartletts test of sphericity"
   ]
  },
  {
   "cell_type": "code",
   "execution_count": 4,
   "metadata": {},
   "outputs": [
    {
     "name": "stdout",
     "output_type": "stream",
     "text": [
      "the chi square value of bartlett test:  3385.3091508112166\n",
      "the p_value of bartlett test:  0.0\n"
     ]
    }
   ],
   "source": [
    "from factor_analyzer import FactorAnalyzer\n",
    "from factor_analyzer.factor_analyzer import calculate_bartlett_sphericity\n",
    "\n",
    "chi_square, p_value = calculate_bartlett_sphericity(x)\n",
    "print(\"the chi square value of bartlett test: \", chi_square)\n",
    "print(\"the p_value of bartlett test: \", p_value)"
   ]
  },
  {
   "cell_type": "markdown",
   "metadata": {},
   "source": [
    "### Here we can see that the p value is 0.0 hence statistically significant"
   ]
  },
  {
   "cell_type": "markdown",
   "metadata": {},
   "source": [
    "## Kaiser Mayer Olkin Test"
   ]
  },
  {
   "cell_type": "code",
   "execution_count": 5,
   "metadata": {},
   "outputs": [
    {
     "name": "stdout",
     "output_type": "stream",
     "text": [
      "the kmo values per variable:  [0.87688315 0.83931477 0.87836329 0.82998378 0.39034472 0.41302883\n",
      " 0.33190444 0.78558999 0.42466801 0.92847504]\n",
      "the kmo model value:  0.535098593826483\n"
     ]
    },
    {
     "name": "stderr",
     "output_type": "stream",
     "text": [
      "/Library/Frameworks/Python.framework/Versions/3.12/lib/python3.12/site-packages/factor_analyzer/utils.py:244: UserWarning: The inverse of the variance-covariance matrix was calculated using the Moore-Penrose generalized matrix inversion, due to its determinant being at or very close to zero.\n",
      "  warnings.warn(\n"
     ]
    }
   ],
   "source": [
    "from factor_analyzer.factor_analyzer import calculate_kmo\n",
    "\n",
    "kmo_values, kmo_model = calculate_kmo(x)\n",
    "print(\"the kmo values per variable: \", kmo_values)\n",
    "print(\"the kmo model value: \", kmo_model)"
   ]
  },
  {
   "cell_type": "markdown",
   "metadata": {},
   "source": [
    "### Here KMO value os 0.53 which is good but not excellent\n",
    "### Since the conditon of adequacy is met FA can be executed"
   ]
  },
  {
   "cell_type": "markdown",
   "metadata": {},
   "source": [
    "## Eigen values"
   ]
  },
  {
   "cell_type": "code",
   "execution_count": 15,
   "metadata": {},
   "outputs": [
    {
     "name": "stdout",
     "output_type": "stream",
     "text": [
      "the eigen values are:  [4.02421075 1.49231968 1.20596626 0.9554764  0.66218139 0.60271708\n",
      " 0.53656565 0.43368204 0.07832002 0.00856073]\n",
      "the value is:  [ 3.72776268  1.57292807  0.88828319  0.21604989  0.11894462  0.09058512\n",
      "  0.01704489 -0.07504411 -0.1919672  -0.28880206]\n"
     ]
    }
   ],
   "source": [
    "fa = FactorAnalyzer()\n",
    "fa.fit(x)\n",
    "eigen_value, value = fa.get_eigenvalues()\n",
    "print(\"the eigen values are: \", eigen_value)\n",
    "print(\"the value is: \", value)"
   ]
  },
  {
   "cell_type": "code",
   "execution_count": 22,
   "metadata": {},
   "outputs": [
    {
     "data": {
      "text/plain": [
       "[<matplotlib.lines.Line2D at 0x13a0088f0>]"
      ]
     },
     "execution_count": 22,
     "metadata": {},
     "output_type": "execute_result"
    },
    {
     "data": {
      "image/png": "[encoded data removed]",
      "text/plain": [
       "<Figure size 640x480 with 1 Axes>"
      ]
     },
     "metadata": {},
     "output_type": "display_data"
    }
   ],
   "source": [
    "import matplotlib.pyplot as plt\n",
    "plt.scatter(range(1, x.shape[1]+1), eigen_value)\n",
    "plt.plot(range(1, x.shape[1]+1), eigen_value)"
   ]
  },
  {
   "cell_type": "markdown",
   "metadata": {},
   "source": [
    "### the eigen value > 1 for only 3 factors, hence optimum number of factors = 3"
   ]
  },
  {
   "cell_type": "code",
   "execution_count": 26,
   "metadata": {},
   "outputs": [
    {
     "name": "stdout",
     "output_type": "stream",
     "text": [
      "factor loadings are:  [[ 0.04598849  0.10875004  0.48976078]\n",
      " [-0.0711421  -0.33665947  0.12479522]\n",
      " [ 0.00161047 -0.18685147  0.45864076]\n",
      " [-0.13233787  0.08184312  0.79071655]\n",
      " [ 1.02583404  0.29048438  0.13815557]\n",
      " [ 0.9374079  -0.06517428 -0.12331425]\n",
      " [ 0.16998396  1.12661703  0.18173581]\n",
      " [ 0.47343423 -0.73735389 -0.08979876]\n",
      " [ 0.18583927 -0.20323689  0.4644602 ]\n",
      " [ 0.03808345 -0.07615782  0.57741002]]\n",
      "factor variance:  (array([2.24478219, 2.11546874, 1.71553417]), array([0.22447822, 0.21154687, 0.17155342]), array([0.22447822, 0.43602509, 0.60757851]))\n"
     ]
    }
   ],
   "source": [
    "fa.fit(x, 3)\n",
    "print(\"factor loadings are: \", fa.loadings_)\n",
    "print(\"factor variance: \", fa.get_factor_variance())"
   ]
  }
 ],
 "metadata": {
  "kernelspec": {
   "display_name": "Python 3",
   "language": "python",
   "name": "python3"
  },
  "language_info": {
   "codemirror_mode": {
    "name": "ipython",
    "version": 3
   },
   "file_extension": ".py",
   "mimetype": "text/x-python",
   "name": "python",
   "nbconvert_exporter": "python",
   "pygments_lexer": "ipython3",
   "version": "3.12.3"
  }
 },
 "nbformat": 4,
 "nbformat_minor": 2
}
