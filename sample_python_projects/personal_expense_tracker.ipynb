{
 "cells": [
  {
   "cell_type": "code",
   "execution_count": 1,
   "id": "c14cd0a0-4833-4379-84ce-c7cffa0d22a2",
   "metadata": {},
   "outputs": [],
   "source": [
    "import csv\n",
    "import os\n",
    "import time"
   ]
  },
  {
   "cell_type": "code",
   "execution_count": 2,
   "id": "923ab7f7-46ef-4254-b6d1-30194bb320c3",
   "metadata": {},
   "outputs": [],
   "source": [
    "total_expense_list = []\n",
    "current_date = \"\"\n",
    "file_output_path = 'expenses.csv'"
   ]
  },
  {
   "cell_type": "code",
   "execution_count": 3,
   "id": "39d2857e-f07e-4844-b9a5-fda277a2db97",
   "metadata": {},
   "outputs": [],
   "source": [
    "def validate_date(date):\n",
    "    current_year, current_month, current_day = current_date.split('-')\n",
    "    # this function will be used to validate the date\n",
    "    if len(date) != 10:\n",
    "        return False\n",
    "    else:\n",
    "        year, month, day = date.split('-')\n",
    "        if len(month) == 1:\n",
    "            month = '0' + month\n",
    "        elif len(day) == 1:\n",
    "            day = '0' + day\n",
    "        if len(year) != 4 or len(month) != 2 or len(day) != 2:\n",
    "            print(\"Invalid date format\")\n",
    "            return False\n",
    "        if int(month) < 1 or int(month) > 12:\n",
    "            print(\"Invalid month\")\n",
    "            return False\n",
    "        if int(day) < 1 or int(day) > 31:\n",
    "            print(\"Invalid day\")\n",
    "            return False\n",
    "        if int(year) < 1900 or int(year) > int(current_year):\n",
    "            print(\"Invalid year\")\n",
    "            return False\n",
    "        if int(year) == int(current_year) and int(month) > int(current_month):\n",
    "            print(\"Invalid month\")\n",
    "            return False\n",
    "        if int(year) == int(current_year) and int(month) == int(current_month) and int(day) > int(current_day):\n",
    "            print(\"Invalid day\")\n",
    "            return False\n",
    "    return True"
   ]
  },
  {
   "cell_type": "code",
   "execution_count": 4,
   "id": "a39f8f3a-d8b2-4f44-8ff3-3756b03f6888",
   "metadata": {},
   "outputs": [],
   "source": [
    "def validate_expense(date_of_expense, category, amount_spend, description):\n",
    "    # this function will be used to validate the input data\n",
    "    if not validate_date(date_of_expense):\n",
    "        return False\n",
    "    if len(category) == 0 or amount_spend <= 0 or len(description) == 0:\n",
    "        return False\n",
    "    return True"
   ]
  },
  {
   "cell_type": "code",
   "execution_count": 5,
   "id": "c1de0089-d8b8-4b82-b66c-8e9bc24fafef",
   "metadata": {},
   "outputs": [],
   "source": [
    "def add_expense():\n",
    "    # this function will be used to add an expense to the list\n",
    "    # first check if the file exists if yes load the data else create a new file\n",
    "    date_of_expense = input(\"Enter the date of the expense (YYY-MM-DD) format: \")\n",
    "    category = input(\"Enter the category of the expense: \")\n",
    "    amount_spend = float(input(\"Enter the amount spent: \"))\n",
    "    description = input(\"Enter the description of the expense: \")\n",
    "    if validate_expense(date_of_expense, category, amount_spend, description):\n",
    "        total_expense_list.append({'date': date_of_expense, 'category': category, 'amount': amount_spend, 'description': description})\n",
    "        print(\"Expense added successfully\")\n",
    "    else:\n",
    "        print(\"Invalid expense. Please try again\")"
   ]
  },
  {
   "cell_type": "code",
   "execution_count": 6,
   "id": "c7d0802a-6314-4bf7-954f-808408276575",
   "metadata": {},
   "outputs": [],
   "source": [
    "def view_expenses():   \n",
    "    # this function will be used to view the expenses\n",
    "    print(\"The complete expenses:\")\n",
    "    for expense in total_expense_list:\n",
    "        if validate_expense(expense['date'], expense['category'], expense['amount'], expense['description']):\n",
    "            print(expense)\n",
    "        else:\n",
    "            print(f\"Invalid expense: {expense}\")\n",
    "    response = input(\"Do you want to view the total expenses for only this month? (Y/N): \")\n",
    "    if response.upper() == 'Y' or response.upper() == 'YES':\n",
    "        for expense in total_expense_list:\n",
    "            year, month, _= expense['date'].split('-')\n",
    "            if int(year) == int(current_date.split('-')[0]) and int(month) == int(current_date.split('-')[1]):\n",
    "                print(expense)"
   ]
  },
  {
   "cell_type": "code",
   "execution_count": 7,
   "id": "81e2fc4c-171c-4dd1-aac1-4cd117e16989",
   "metadata": {},
   "outputs": [],
   "source": [
    "def get_monthly_budget():\n",
    "    # this function will be used to get the monthly budget\n",
    "    monthly_budget = float(input(\"Enter the monthly budget: \"))\n",
    "    return monthly_budget"
   ]
  },
  {
   "cell_type": "code",
   "execution_count": 8,
   "id": "776c0c0f-e341-493b-a65e-ff0d031c2f31",
   "metadata": {},
   "outputs": [],
   "source": [
    "def get_total_expense():\n",
    "    total_expense = 0\n",
    "    for expense in total_expense_list:\n",
    "        year, month, _= expense['date'].split('-')\n",
    "        if int(year) == int(current_date.split('-')[0]) and int(month) == int(current_date.split('-')[1]):\n",
    "            total_expense += expense['amount']\n",
    "    return total_expense"
   ]
  },
  {
   "cell_type": "code",
   "execution_count": 9,
   "id": "5cfbfee0-3307-44c0-a74b-7132ed4928a1",
   "metadata": {},
   "outputs": [],
   "source": [
    "def track_budget():\n",
    "    # this function will be used to track the budget\n",
    "    monthly_budget = get_monthly_budget()\n",
    "    total_expense = get_total_expense()\n",
    "    print(f\"Total expenses for this month: {total_expense}\")\n",
    "    if total_expense > monthly_budget:\n",
    "        print(f\"You have exceeded your budget by: {total_expense - monthly_budget}\")\n",
    "    else:\n",
    "        print(f\"You have {monthly_budget - total_expense} left for the month\")\n",
    "\n"
   ]
  },
  {
   "cell_type": "code",
   "execution_count": 10,
   "id": "e8f923ae-5828-4bbf-aab6-6a7ff0b00f66",
   "metadata": {},
   "outputs": [],
   "source": [
    "def save_expenses():\n",
    "    # this function will be used to save the expenses to a file\n",
    "    with open(file_output_path, 'w') as file:\n",
    "        writer = csv.DictWriter(file, fieldnames=['date', 'category', 'amount', 'description'])\n",
    "        writer.writeheader()\n",
    "        for expense in total_expense_list:\n",
    "            writer.writerow(expense)\n"
   ]
  },
  {
   "cell_type": "code",
   "execution_count": 11,
   "id": "b405eeca-51c4-4fa8-9e73-f5b8c7631208",
   "metadata": {},
   "outputs": [],
   "source": [
    "\n",
    "def init():\n",
    "    # this function will be used to initialise the total_expense_list\n",
    "    # first check if the file exists if yes load the data\n",
    "    date_time = time.localtime()\n",
    "    global current_date\n",
    "    current_date = f\"{date_time.tm_year}-{date_time.tm_mon}-{date_time.tm_mday}\"\n",
    "    if os.path.isfile(file_output_path):\n",
    "        with open(file_output_path, 'r') as file:\n",
    "            reader = csv.DictReader(file) \n",
    "            for row in reader:\n",
    "                total_expense_list.append({'date': row['date'], 'category': row['category'], 'amount': float(row['amount']), 'description': row['description']})\n",
    "    return current_date"
   ]
  },
  {
   "cell_type": "code",
   "execution_count": 12,
   "id": "5719e583-d527-4115-86cf-f6b30196e138",
   "metadata": {},
   "outputs": [],
   "source": [
    "def main():\n",
    "    # this can be used to display an interactive menu\\\n",
    "    current_date = init()\n",
    "    print(\"Welcome to the Personal Expense Tracker\")\n",
    "    print(f\"Today's date is: {current_date}\")\n",
    "\n",
    "    while(True):\n",
    "        print(\"1. Add an Expense\")\n",
    "        print(\"2. View Expenses\")\n",
    "        print(\"3. Track Budget\")\n",
    "        print(\"4. Save expenses to a file\")\n",
    "        print(\"5. Save and Exit\")\n",
    "        choice = input(\"Enter your choice: \")\n",
    "        if choice == '1':\n",
    "            add_expense()\n",
    "        elif choice == '2':\n",
    "            view_expenses()\n",
    "        elif choice == '3':\n",
    "            track_budget()\n",
    "        elif choice == '4':\n",
    "            save_expenses()\n",
    "        elif choice == '5':\n",
    "            save_expenses()\n",
    "            break\n",
    "        else:\n",
    "            print(\"Invalid choice. Please try again\")"
   ]
  },
  {
   "cell_type": "code",
   "execution_count": 14,
   "id": "5fc6c4bd-e721-4c9f-9acc-b608a7597dca",
   "metadata": {},
   "outputs": [
    {
     "name": "stdout",
     "output_type": "stream",
     "text": [
      "Welcome to the Personal Expense Tracker\n",
      "Today's date is: 2025-2-8\n",
      "1. Add an Expense\n",
      "2. View Expenses\n",
      "3. Track Budget\n",
      "4. Save expenses to a file\n",
      "5. Save and Exit\n"
     ]
    },
    {
     "name": "stdin",
     "output_type": "stream",
     "text": [
      "Enter your choice:  1\n",
      "Enter the date of the expense (YYY-MM-DD) format:  2025-02-01\n",
      "Enter the category of the expense:  Travel\n",
      "Enter the amount spent:  600\n",
      "Enter the description of the expense:  Hiking with friends\n"
     ]
    },
    {
     "name": "stdout",
     "output_type": "stream",
     "text": [
      "Expense added successfully\n",
      "1. Add an Expense\n",
      "2. View Expenses\n",
      "3. Track Budget\n",
      "4. Save expenses to a file\n",
      "5. Save and Exit\n"
     ]
    },
    {
     "name": "stdin",
     "output_type": "stream",
     "text": [
      "Enter your choice:  1\n",
      "Enter the date of the expense (YYY-MM-DD) format:  2025-02-08\n",
      "Enter the category of the expense:  Food\n",
      "Enter the amount spent:  200\n",
      "Enter the description of the expense:  Burger\n"
     ]
    },
    {
     "name": "stdout",
     "output_type": "stream",
     "text": [
      "Expense added successfully\n",
      "1. Add an Expense\n",
      "2. View Expenses\n",
      "3. Track Budget\n",
      "4. Save expenses to a file\n",
      "5. Save and Exit\n"
     ]
    },
    {
     "name": "stdin",
     "output_type": "stream",
     "text": [
      "Enter your choice:  1\n",
      "Enter the date of the expense (YYY-MM-DD) format:  2024-01-01\n",
      "Enter the category of the expense:  Home\n",
      "Enter the amount spent:  1000\n",
      "Enter the description of the expense:  Furniture\n"
     ]
    },
    {
     "name": "stdout",
     "output_type": "stream",
     "text": [
      "Expense added successfully\n",
      "1. Add an Expense\n",
      "2. View Expenses\n",
      "3. Track Budget\n",
      "4. Save expenses to a file\n",
      "5. Save and Exit\n"
     ]
    },
    {
     "name": "stdin",
     "output_type": "stream",
     "text": [
      "Enter your choice:  2\n"
     ]
    },
    {
     "name": "stdout",
     "output_type": "stream",
     "text": [
      "The complete expenses:\n",
      "{'date': '2025-02-01', 'category': 'Travel', 'amount': 600.0, 'description': 'Hiking with friends'}\n",
      "{'date': '2025-02-08', 'category': 'Food', 'amount': 200.0, 'description': 'Burger'}\n",
      "{'date': '2024-01-01', 'category': 'Home', 'amount': 1000.0, 'description': 'Furniture'}\n"
     ]
    },
    {
     "name": "stdin",
     "output_type": "stream",
     "text": [
      "Do you want to view the total expenses for only this month? (Y/N):  Y\n"
     ]
    },
    {
     "name": "stdout",
     "output_type": "stream",
     "text": [
      "{'date': '2025-02-01', 'category': 'Travel', 'amount': 600.0, 'description': 'Hiking with friends'}\n",
      "{'date': '2025-02-08', 'category': 'Food', 'amount': 200.0, 'description': 'Burger'}\n",
      "1. Add an Expense\n",
      "2. View Expenses\n",
      "3. Track Budget\n",
      "4. Save expenses to a file\n",
      "5. Save and Exit\n"
     ]
    },
    {
     "name": "stdin",
     "output_type": "stream",
     "text": [
      "Enter your choice:  3\n",
      "Enter the monthly budget:  500\n"
     ]
    },
    {
     "name": "stdout",
     "output_type": "stream",
     "text": [
      "Total expenses for this month: 800.0\n",
      "You have exceeded your budget by: 300.0\n",
      "1. Add an Expense\n",
      "2. View Expenses\n",
      "3. Track Budget\n",
      "4. Save expenses to a file\n",
      "5. Save and Exit\n"
     ]
    },
    {
     "name": "stdin",
     "output_type": "stream",
     "text": [
      "Enter your choice:  4\n"
     ]
    },
    {
     "name": "stdout",
     "output_type": "stream",
     "text": [
      "1. Add an Expense\n",
      "2. View Expenses\n",
      "3. Track Budget\n",
      "4. Save expenses to a file\n",
      "5. Save and Exit\n"
     ]
    },
    {
     "name": "stdin",
     "output_type": "stream",
     "text": [
      "Enter your choice:  5\n"
     ]
    }
   ],
   "source": [
    "\n",
    "if __name__ == '__main__':\n",
    "    main()"
   ]
  }
 ],
 "metadata": {
  "kernelspec": {
   "display_name": "Python 3 [3.10]",
   "language": "python",
   "name": "python3"
  },
  "language_info": {
   "codemirror_mode": {
    "name": "ipython",
    "version": 3
   },
   "file_extension": ".py",
   "mimetype": "text/x-python",
   "name": "python",
   "nbconvert_exporter": "python",
   "pygments_lexer": "ipython3",
   "version": "3.10.2"
  }
 },
 "nbformat": 4,
 "nbformat_minor": 5
}
